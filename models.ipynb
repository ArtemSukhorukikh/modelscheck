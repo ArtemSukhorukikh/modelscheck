{
 "cells": [
  {
   "cell_type": "code",
   "execution_count": 38,
   "metadata": {},
   "outputs": [],
   "source": [
    "from langchain_community.document_loaders import PyPDFLoader"
   ]
  },
  {
   "cell_type": "code",
   "execution_count": 39,
   "metadata": {},
   "outputs": [],
   "source": [
    "local_path = \"files/test2.pdf\"\n",
    "\n",
    "loader = PyPDFLoader(local_path)\n",
    "pages = loader.load_and_split()"
   ]
  },
  {
   "cell_type": "code",
   "execution_count": 40,
   "metadata": {},
   "outputs": [
    {
     "data": {
      "text/plain": [
       "'Гра нты для молодых\\nпре дпри нимателей\\nБлагодаря господдержке граждане до 25 лет, которые решили открыть свое\\nдело, могут получить грант от 100 до 500 тыс. рублей (или до 1 млн рублей в\\nтом случае, если деятельность ведется в Арктической зоне). Средства могут\\nполучить как индивидуальные предприниматели, так и учредители\\nпредприятий.\\xa0\\nFAQ  по гра нтам для молодёжи\\nКто может получить гранты?\\nИП и юридические лица, основанные лицами в возрасте от 14 до 25 лет\\n(включительн о). До 18 лет – с разрешения родителей. При этом если речь о\\nюрлице, то молодой человек должен владеть долей в компании свыше 50% .\\nКакова сумма гранта?\\nМ инимальн ая – 100 тыс. рублей.\\nМ аксимальн ая – 500 тыс. рублей (до 1 млн рублей для Арктической\\nзоны: М урманская и Архангельская области, Ненецкий и Ямало-Ненецкий\\nАО, Чукотка, Карелия, Коми, Якутия, Красноярский край).Ме ры поддержки Новости Кадры для экономики Центры «Мо й бизнес» База знаний Как открыть бизнес\\n\\uf189'"
      ]
     },
     "execution_count": 40,
     "metadata": {},
     "output_type": "execute_result"
    }
   ],
   "source": [
    "pages[0].page_content"
   ]
  },
  {
   "cell_type": "code",
   "execution_count": 41,
   "metadata": {},
   "outputs": [],
   "source": [
    "from langchain_community.embeddings import OllamaEmbeddings\n",
    "from langchain_text_splitters import RecursiveCharacterTextSplitter\n",
    "from langchain_community.vectorstores import Chroma"
   ]
  },
  {
   "cell_type": "code",
   "execution_count": 42,
   "metadata": {},
   "outputs": [],
   "source": [
    "# Split and chunk \n",
    "text_splitter = RecursiveCharacterTextSplitter(chunk_size=2500, chunk_overlap=100)\n",
    "chunks = text_splitter.split_documents(pages)"
   ]
  },
  {
   "cell_type": "code",
   "execution_count": 43,
   "metadata": {},
   "outputs": [
    {
     "name": "stderr",
     "output_type": "stream",
     "text": [
      "OllamaEmbeddings: 100%|██████████| 5/5 [00:13<00:00,  2.60s/it]\n"
     ]
    }
   ],
   "source": [
    "# Add to vector database\n",
    "vector_db = Chroma.from_documents(\n",
    "    documents=chunks, \n",
    "    embedding=OllamaEmbeddings(model=\"nomic-embed-text\",show_progress=True),\n",
    "    collection_name=\"local-rag\"\n",
    ")"
   ]
  },
  {
   "cell_type": "code",
   "execution_count": 44,
   "metadata": {},
   "outputs": [],
   "source": [
    "from langchain.prompts import ChatPromptTemplate, PromptTemplate\n",
    "from langchain_core.output_parsers import StrOutputParser\n",
    "from langchain_community.chat_models import ChatOllama\n",
    "from langchain_core.runnables import RunnablePassthrough\n",
    "from langchain.retrievers.multi_query import MultiQueryRetriever"
   ]
  },
  {
   "cell_type": "code",
   "execution_count": 45,
   "metadata": {},
   "outputs": [],
   "source": [
    "# LLM from Ollama\n",
    "local_model = \"llama3:8b-instruct-q8_0\"\n",
    "llm = ChatOllama(model=local_model)"
   ]
  },
  {
   "cell_type": "code",
   "execution_count": 46,
   "metadata": {},
   "outputs": [],
   "source": [
    "QUERY_PROMPT = PromptTemplate(\n",
    "    input_variables=[\"question\"],\n",
    "    template=\"\"\"Вы - ассистент по языковой модели искусственного интеллекта для ответа по законодательному документу.\n",
    "        Не нужно придумывать своих условий или что-то подобное, только что представленно в тексте.\n",
    "        Ваша задача - найти информацию из текста документа условия участия и только их.\n",
    "        Никакой другой или вводной информации не надо. \n",
    "        Отвечай только на русском языке для этого.\n",
    "        Никакой вводной информации. Нчало и конец условия участия помещай в следующий тег <start>Текст условия<end>\n",
    "        Пример ответа <start>Необходимо быть резедентом РФ<end><start>Текст второго условия<end>\n",
    "        Исходный вопрос: {question}\"\"\",\n",
    ")"
   ]
  },
  {
   "cell_type": "code",
   "execution_count": 51,
   "metadata": {},
   "outputs": [],
   "source": [
    "retriever = MultiQueryRetriever.from_llm(\n",
    "    vector_db.as_retriever(), \n",
    "    llm,\n",
    "    prompt=QUERY_PROMPT\n",
    ")\n",
    "\n",
    "# RAG prompt\n",
    "template = \"\"\"Отвечай на вопросы без вводной инфформации согласно контексту.  \n",
    "Только список сразу на русском языке. Формат ответе <start>1.текст условия<end> <start>2.текст условия.<end>\n",
    "{context}\n",
    "Вопрос: {question}\n",
    "\"\"\"\n",
    "\n",
    "prompt = ChatPromptTemplate.from_template(template)"
   ]
  },
  {
   "cell_type": "code",
   "execution_count": 52,
   "metadata": {},
   "outputs": [],
   "source": [
    "chain = (\n",
    "    {\"context\": retriever, \"question\": RunnablePassthrough()}\n",
    "    | prompt\n",
    "    | llm\n",
    "    | StrOutputParser()\n",
    ")"
   ]
  },
  {
   "cell_type": "code",
   "execution_count": 53,
   "metadata": {},
   "outputs": [
    {
     "name": "stderr",
     "output_type": "stream",
     "text": [
      "OllamaEmbeddings: 100%|██████████| 1/1 [00:04<00:00,  4.63s/it]\n",
      "OllamaEmbeddings: 100%|██████████| 1/1 [00:02<00:00,  2.04s/it]\n",
      "OllamaEmbeddings: 100%|██████████| 1/1 [00:02<00:00,  2.04s/it]\n",
      "OllamaEmbeddings: 100%|██████████| 1/1 [00:02<00:00,  2.11s/it]\n",
      "OllamaEmbeddings: 100%|██████████| 1/1 [00:02<00:00,  2.19s/it]\n"
     ]
    },
    {
     "data": {
      "text/plain": [
       "'<start>1. Нет долгов по налогам/взносам больше 1000 рублей.</end>\\n<start>2. Прохождение бесплатного обучения в центре «М ой бизнес» по основам предпринимательской деятельности (вы должны разбираться в условиях ведения бизнеса, мерах поддержки и нововведениях в законодательстве).</end>\\n<start>3. Софинансирование не менее 25% от стоимости проекта.</end>\\n<start>4. Наличие сертификата о прохождении бесплатного обучения в центре «М ой бизнес» по основам предпринимательской деятельности (вы должны разбираться в условиях ведения бизнеса, мерах поддержки и нововведениях в законодательстве).</end>\\n<start>5. Гражданство РФ.</end>\\n<start>6. Регистрация ИП или юрлица на территории России.</end>\\n<start>7. Оказание предпринимательской деятельности на территории региона регистрации.</end>\\n<start>8. Валидность бизнес-плана.</end>\\n<start>9. Жизнеспособность и реализуемость бизнес-проекта.</end>\\n<start>10. Ограничений по срокам существования ИП или юрлица нет.</end>'"
      ]
     },
     "execution_count": 53,
     "metadata": {},
     "output_type": "execute_result"
    }
   ],
   "source": [
    "respoonse = chain.invoke(\"Какие условия участия в программе представленном в данном файле?\")\n",
    "respoonse"
   ]
  },
  {
   "cell_type": "code",
   "execution_count": 13,
   "metadata": {},
   "outputs": [],
   "source": [
    "import torch\n",
    "import nltk\n",
    "from sacrebleu.metrics import BLEU\n",
    "\n",
    "from rouge import Rouge\n",
    "rouge_scorer = Rouge()"
   ]
  },
  {
   "cell_type": "code",
   "execution_count": 14,
   "metadata": {},
   "outputs": [],
   "source": [
    "def evaluate_response(reference, response):\n",
    "    # BLEU оценка\n",
    "    bleu_scorer = BLEU(effective_order=True)\n",
    "    blue_score = bleu_scorer.sentence_score(\n",
    "        hypothesis=response,\n",
    "        references=[reference],\n",
    "    )\n",
    "\n",
    "    # ROUGE оценка\n",
    "    score = rouge_scorer.get_scores(\n",
    "        hyps=response,\n",
    "        refs=reference,\n",
    "    )\n",
    "    rouge_score = score[0][\"rouge-l\"][\"f\"]\n",
    "\n",
    "\n",
    "    return blue_score, rouge_score"
   ]
  },
  {
   "cell_type": "code",
   "execution_count": 15,
   "metadata": {},
   "outputs": [],
   "source": [
    "reference_text = '''Граждане до 25 лет, которые решили открыть своедело.Нет долгов по налогам/взносам больше 1000 рублей.\n",
    "Прохождение бесплатного обучения в центре «Мой бизнес» по\n",
    "основам предпринимательской деятельности (вы должны разбираться в\n",
    "условиях ведения бизнеса, мерах поддержки и нововведениях в\n",
    "законодательстве). Длительность обучения – не менее 16 часов. Если вы уже\n",
    "обучились по программе центра или Корпорации МСП, то можете\n",
    "использовать полученный сертификат (срок его действия не менее года).\n",
    "Софинансирование не менее 25% от стоимости проекта (например,\n",
    "если вы хотите приобрести на средства гранта оборудование, то 25% от его\n",
    "стоимости должны добавить из своих денег; если своих средств еще нет, то\n",
    "можно, к примеру, взять льготный микрозаём в центре «Мой бизнес» – он\n",
    "предоставляется на срок до 3 лет в объеме до 5 млн рублей).\n",
    "'''"
   ]
  },
  {
   "cell_type": "code",
   "execution_count": 16,
   "metadata": {},
   "outputs": [],
   "source": [
    "bleu, rouge = evaluate_response(reference_text, respoonse)"
   ]
  },
  {
   "cell_type": "code",
   "execution_count": 17,
   "metadata": {},
   "outputs": [
    {
     "name": "stdout",
     "output_type": "stream",
     "text": [
      "BLEU: 0.3089601478770658\n",
      "ROUGE: 0.4899598346194417\n"
     ]
    }
   ],
   "source": [
    "print(\"BLEU:\", bleu.score/100)\n",
    "print(\"ROUGE:\", rouge)"
   ]
  }
 ],
 "metadata": {
  "kernelspec": {
   "display_name": "venv",
   "language": "python",
   "name": "python3"
  },
  "language_info": {
   "codemirror_mode": {
    "name": "ipython",
    "version": 3
   },
   "file_extension": ".py",
   "mimetype": "text/x-python",
   "name": "python",
   "nbconvert_exporter": "python",
   "pygments_lexer": "ipython3",
   "version": "3.12.3"
  }
 },
 "nbformat": 4,
 "nbformat_minor": 2
}
