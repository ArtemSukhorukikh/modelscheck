{
 "cells": [
  {
   "cell_type": "code",
   "execution_count": 6,
   "metadata": {},
   "outputs": [],
   "source": [
    "from modelComditionals import *\n",
    "from langchain.llms import Ollama\n",
    "from langchain import PromptTemplate\n",
    "import re"
   ]
  },
  {
   "cell_type": "code",
   "execution_count": 7,
   "metadata": {},
   "outputs": [
    {
     "name": "stderr",
     "output_type": "stream",
     "text": [
      "d:\\Progs\\ModelsCheck\\venv\\Lib\\site-packages\\huggingface_hub\\file_download.py:1132: FutureWarning: `resume_download` is deprecated and will be removed in version 1.0.0. Downloads always resume when possible. If you want to force a new download, use `force_download=True`.\n",
      "  warnings.warn(\n"
     ]
    }
   ],
   "source": [
    "# Loading orca-mini from Ollama\n",
    "llm = Ollama(model=\"mistral\", temperature=0)\n",
    "\n",
    "# Loading the Embedding Model\n",
    "embed = load_embedding_model(model_path=\"all-MiniLM-L6-v2\")"
   ]
  },
  {
   "cell_type": "code",
   "execution_count": 15,
   "metadata": {},
   "outputs": [],
   "source": [
    "# loading and splitting the documents\n",
    "docs = load_pdf_data(file_path=\"uploads/test.pdf\")\n",
    "\n",
    "documents = split_docs(documents=docs)\n",
    "\n",
    "# creating vectorstore\n",
    "vectorstore = create_embeddings(documents, embed)\n",
    "\n",
    "# converting vectorstore to a retriever\n",
    "retriever = vectorstore.as_retriever()"
   ]
  },
  {
   "cell_type": "code",
   "execution_count": 16,
   "metadata": {},
   "outputs": [],
   "source": [
    "# Creating the prompt from the template which we created before\n",
    "prompt = PromptTemplate.from_template(template)\n",
    "\n",
    "# Creating the chain\n",
    "chain = load_qa_chain(retriever, llm, prompt)"
   ]
  },
  {
   "cell_type": "code",
   "execution_count": 17,
   "metadata": {},
   "outputs": [
    {
     "data": {
      "text/plain": [
       "' 1. Настоящее постановление вступает в силу со дня его официального опубликования. 2. Председатель\\nПравительства Российской Федерации М.Мишустин. 3. У кредитной организации отсутствует просроченная\\nзадолженность перед бюджетами бюджетной системы Российской Федерации. 4. По кредитным договорам (в\\nтом числе с учетом дополнительных соглашений о приведении положений кредитного договора в\\nсоответствие настоящим Правилам), заключенным в целях жилищного строительства в соответствии с\\nФедеральным законом. 5. Основного долга и уплате начисленных процентов в соответствии с графиком\\nплатежей по кредитному договору.  true'"
      ]
     },
     "execution_count": 17,
     "metadata": {},
     "output_type": "execute_result"
    }
   ],
   "source": [
    "responceFirst = get_response('Я вляется ли этот файл новостью или постановлением правительства для госпрограммы. Ответь только true или false ', chain)\n",
    "responceFirst"
   ]
  },
  {
   "cell_type": "code",
   "execution_count": 10,
   "metadata": {},
   "outputs": [
    {
     "name": "stderr",
     "output_type": "stream",
     "text": [
      "d:\\Progs\\ModelsCheck\\venv\\Lib\\site-packages\\langchain_core\\_api\\deprecation.py:119: LangChainDeprecationWarning: The method `Chain.__call__` was deprecated in langchain 0.1.0 and will be removed in 0.3.0. Use invoke instead.\n",
      "  warn_deprecated(\n"
     ]
    },
    {
     "data": {
      "text/plain": [
       "' 1. Гражданство - Российское 2. Возраст ребёнка - от рождения до 18 лет 3. Место постоянной\\nрегистрации ребёнка - Липецкая область, Грязинский район, г. Грязи, ул. Дальняя, д. 6 4. Дата\\nрождения ребёнка - 15.01.2013 5. Пол ребёнка - Мужской 6. Номер телефона контактного лица -\\n+7(951)3029753 7. Адрес электронной почты контактного лица - sukhorukikh.artem@yandex.ru 8.\\nКонтактный телефон дополнительного контактного лица - +7 (904) 687-16-75 9. Имя дополнительного\\nконтактного лица - Сухоруких Артём Олегович'"
      ]
     },
     "execution_count": 10,
     "metadata": {},
     "output_type": "execute_result"
    }
   ],
   "source": [
    "responceFirst = get_response('Какие условия участия в данной программе? Ответ приведи ввиде списка и на русском языке. Предоставь мне только список без твоих мыслей и расмышлений не нужно придумывать условия, только на основании текса. ', chain)\n",
    "responceFirst"
   ]
  },
  {
   "cell_type": "code",
   "execution_count": 11,
   "metadata": {},
   "outputs": [
    {
     "data": {
      "text/plain": [
       "' 1. Гражданство - Российское 2. Возраст ребёнка - от рождения до 18 лет 3. Место постоянной регистрации ребёнка - Липецкая область, Грязинский район, г. Грязи, ул. Дальняя, д. 6 4. Дата рождения ребёнка - 15.01.2013 5. Пол ребёнка - Мужской 6. Номер телефона контактного лица - +7(951)3029753 7. Адрес электронной почты контактного лица - sukhorukikh.artem@yandex.ru 8. Контактный телефон дополнительного контактного лица - +7 (904) 687-16-75 9. Имя дополнительного контактного лица - Сухоруких Артём Олегович'"
      ]
     },
     "execution_count": 11,
     "metadata": {},
     "output_type": "execute_result"
    }
   ],
   "source": [
    "responce = responceFirst.replace('\\n', ' ')\n",
    "responce"
   ]
  },
  {
   "cell_type": "code",
   "execution_count": 12,
   "metadata": {},
   "outputs": [
    {
     "data": {
      "text/plain": [
       "['1. Гражданство - Российское',\n",
       " '2. Возраст ребёнка - от рождения до 18 лет',\n",
       " '3. Место постоянной регистрации ребёнка - Липецкая область, Грязинский район, г. Грязи, ул. Дальняя, д. 6',\n",
       " '4. Дата рождения ребёнка - 15.01.2013',\n",
       " '5. Пол ребёнка - Мужской',\n",
       " '6. Номер телефона контактного лица - +7(951)3029753',\n",
       " '7. Адрес электронной почты контактного лица - sukhorukikh.artem@yandex.ru',\n",
       " '8. Контактный телефон дополнительного контактного лица - +7 (904) 687-16-75',\n",
       " '9. Имя дополнительного контактного лица - Сухоруких Артём Олегович']"
      ]
     },
     "execution_count": 12,
     "metadata": {},
     "output_type": "execute_result"
    }
   ],
   "source": [
    "pattern = r'\\d+\\.\\s'\n",
    "segments = re.split(pattern, responce)[1:]\n",
    "\n",
    "# Восстановление разделителей\n",
    "segments = [f'{i+1}. {segment.strip()}' for i, segment in enumerate(segments)]\n",
    "segments"
   ]
  }
 ],
 "metadata": {
  "kernelspec": {
   "display_name": "venv3",
   "language": "python",
   "name": "python3"
  },
  "language_info": {
   "codemirror_mode": {
    "name": "ipython",
    "version": 3
   },
   "file_extension": ".py",
   "mimetype": "text/x-python",
   "name": "python",
   "nbconvert_exporter": "python",
   "pygments_lexer": "ipython3",
   "version": "3.11.9"
  }
 },
 "nbformat": 4,
 "nbformat_minor": 2
}
